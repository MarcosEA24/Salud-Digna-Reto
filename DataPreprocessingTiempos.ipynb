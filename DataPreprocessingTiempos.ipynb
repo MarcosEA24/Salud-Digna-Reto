{
 "cells": [
  {
   "cell_type": "markdown",
   "metadata": {},
   "source": [
    "# Data Preprocessing Tiempos"
   ]
  },
  {
   "cell_type": "markdown",
   "metadata": {},
   "source": [
    "## Libraries "
   ]
  },
  {
   "cell_type": "code",
   "execution_count": 1,
   "metadata": {},
   "outputs": [],
   "source": [
    "import pandas as pd \n",
    "import seaborn as sns\n",
    "import matplotlib.pyplot as plt\n",
    "import numpy as np\n",
    "import json\n"
   ]
  },
  {
   "cell_type": "markdown",
   "metadata": {},
   "source": [
    "## Modalidades"
   ]
  },
  {
   "cell_type": "markdown",
   "metadata": {},
   "source": [
    "### Loading Data"
   ]
  },
  {
   "cell_type": "code",
   "execution_count": 2,
   "metadata": {},
   "outputs": [],
   "source": [
    "df_tiempos_pacientes = pd.read_excel(\"Tiempos Pacientes.xlsx\")"
   ]
  },
  {
   "cell_type": "markdown",
   "metadata": {},
   "source": [
    "### First Elements in DF"
   ]
  },
  {
   "cell_type": "code",
   "execution_count": 3,
   "metadata": {},
   "outputs": [
    {
     "data": {
      "text/html": [
       "<div>\n",
       "<style scoped>\n",
       "    .dataframe tbody tr th:only-of-type {\n",
       "        vertical-align: middle;\n",
       "    }\n",
       "\n",
       "    .dataframe tbody tr th {\n",
       "        vertical-align: top;\n",
       "    }\n",
       "\n",
       "    .dataframe thead th {\n",
       "        text-align: right;\n",
       "    }\n",
       "</style>\n",
       "<table border=\"1\" class=\"dataframe\">\n",
       "  <thead>\n",
       "    <tr style=\"text-align: right;\">\n",
       "      <th></th>\n",
       "      <th>Sucursal</th>\n",
       "      <th>EstudioModalidad</th>\n",
       "      <th>ReservacionSP</th>\n",
       "      <th>TEPFechaEspera</th>\n",
       "      <th>TEPHoraInicio</th>\n",
       "      <th>TEPHoraFin</th>\n",
       "      <th>TEPMinutos</th>\n",
       "      <th>TAPFechaAtencion</th>\n",
       "      <th>TAPHoraInicio</th>\n",
       "      <th>TAPHoraFin</th>\n",
       "      <th>TAPMinutos</th>\n",
       "      <th>PacienteID</th>\n",
       "      <th>PacienteSP</th>\n",
       "      <th>PacienteGenero</th>\n",
       "      <th>PacienteFechaNacimiento</th>\n",
       "      <th>PacienteCodigoPostal</th>\n",
       "    </tr>\n",
       "  </thead>\n",
       "  <tbody>\n",
       "    <tr>\n",
       "      <th>0</th>\n",
       "      <td>COYOACAN</td>\n",
       "      <td>DENSITOMETRIA</td>\n",
       "      <td>806115606</td>\n",
       "      <td>20250302</td>\n",
       "      <td>2025-03-02 13:20:00.000</td>\n",
       "      <td>2025-03-02 11:40:15.113</td>\n",
       "      <td>0.00</td>\n",
       "      <td>20250302</td>\n",
       "      <td>2025-03-02 11:40:15.113</td>\n",
       "      <td>2025-03-02 11:47:18.170</td>\n",
       "      <td>7.05</td>\n",
       "      <td>17256328.0</td>\n",
       "      <td>17520850.0</td>\n",
       "      <td>FEMENINO</td>\n",
       "      <td>1971-07-24</td>\n",
       "      <td>4310.0</td>\n",
       "    </tr>\n",
       "    <tr>\n",
       "      <th>1</th>\n",
       "      <td>COYOACAN</td>\n",
       "      <td>DENSITOMETRIA</td>\n",
       "      <td>918870299</td>\n",
       "      <td>20250329</td>\n",
       "      <td>2025-03-29 07:11:15.770</td>\n",
       "      <td>2025-03-29 07:39:49.400</td>\n",
       "      <td>28.57</td>\n",
       "      <td>20250329</td>\n",
       "      <td>2025-03-29 07:39:49.400</td>\n",
       "      <td>2025-03-29 07:45:18.230</td>\n",
       "      <td>5.48</td>\n",
       "      <td>46138407.0</td>\n",
       "      <td>9225063.0</td>\n",
       "      <td>FEMENINO</td>\n",
       "      <td>1967-02-08</td>\n",
       "      <td>3570.0</td>\n",
       "    </tr>\n",
       "    <tr>\n",
       "      <th>2</th>\n",
       "      <td>COYOACAN</td>\n",
       "      <td>DENSITOMETRIA</td>\n",
       "      <td>921436045</td>\n",
       "      <td>20250321</td>\n",
       "      <td>2025-03-21 15:55:53.723</td>\n",
       "      <td>2025-03-21 16:15:07.230</td>\n",
       "      <td>19.23</td>\n",
       "      <td>20250321</td>\n",
       "      <td>2025-03-21 16:15:07.230</td>\n",
       "      <td>2025-03-21 16:21:50.127</td>\n",
       "      <td>6.72</td>\n",
       "      <td>41262646.0</td>\n",
       "      <td>4138508.0</td>\n",
       "      <td>FEMENINO</td>\n",
       "      <td>1948-09-23</td>\n",
       "      <td>3240.0</td>\n",
       "    </tr>\n",
       "    <tr>\n",
       "      <th>3</th>\n",
       "      <td>COYOACAN</td>\n",
       "      <td>DENSITOMETRIA</td>\n",
       "      <td>923595474</td>\n",
       "      <td>20250301</td>\n",
       "      <td>2025-03-01 08:03:01.360</td>\n",
       "      <td>2025-03-01 09:42:16.990</td>\n",
       "      <td>99.25</td>\n",
       "      <td>20250301</td>\n",
       "      <td>2025-03-01 09:42:16.990</td>\n",
       "      <td>2025-03-01 09:48:03.577</td>\n",
       "      <td>5.78</td>\n",
       "      <td>48597444.0</td>\n",
       "      <td>11686051.0</td>\n",
       "      <td>FEMENINO</td>\n",
       "      <td>1976-04-07</td>\n",
       "      <td>1410.0</td>\n",
       "    </tr>\n",
       "    <tr>\n",
       "      <th>4</th>\n",
       "      <td>COYOACAN</td>\n",
       "      <td>DENSITOMETRIA</td>\n",
       "      <td>926170090</td>\n",
       "      <td>20250302</td>\n",
       "      <td>2025-03-02 09:40:00.000</td>\n",
       "      <td>2025-03-02 09:20:46.240</td>\n",
       "      <td>0.00</td>\n",
       "      <td>20250302</td>\n",
       "      <td>2025-03-02 09:20:46.240</td>\n",
       "      <td>2025-03-02 09:27:47.617</td>\n",
       "      <td>7.02</td>\n",
       "      <td>63749589.0</td>\n",
       "      <td>47710075.0</td>\n",
       "      <td>FEMENINO</td>\n",
       "      <td>1978-12-28</td>\n",
       "      <td>4380.0</td>\n",
       "    </tr>\n",
       "  </tbody>\n",
       "</table>\n",
       "</div>"
      ],
      "text/plain": [
       "   Sucursal EstudioModalidad  ReservacionSP  TEPFechaEspera  \\\n",
       "0  COYOACAN    DENSITOMETRIA      806115606        20250302   \n",
       "1  COYOACAN    DENSITOMETRIA      918870299        20250329   \n",
       "2  COYOACAN    DENSITOMETRIA      921436045        20250321   \n",
       "3  COYOACAN    DENSITOMETRIA      923595474        20250301   \n",
       "4  COYOACAN    DENSITOMETRIA      926170090        20250302   \n",
       "\n",
       "            TEPHoraInicio              TEPHoraFin  TEPMinutos  \\\n",
       "0 2025-03-02 13:20:00.000 2025-03-02 11:40:15.113        0.00   \n",
       "1 2025-03-29 07:11:15.770 2025-03-29 07:39:49.400       28.57   \n",
       "2 2025-03-21 15:55:53.723 2025-03-21 16:15:07.230       19.23   \n",
       "3 2025-03-01 08:03:01.360 2025-03-01 09:42:16.990       99.25   \n",
       "4 2025-03-02 09:40:00.000 2025-03-02 09:20:46.240        0.00   \n",
       "\n",
       "   TAPFechaAtencion           TAPHoraInicio              TAPHoraFin  \\\n",
       "0          20250302 2025-03-02 11:40:15.113 2025-03-02 11:47:18.170   \n",
       "1          20250329 2025-03-29 07:39:49.400 2025-03-29 07:45:18.230   \n",
       "2          20250321 2025-03-21 16:15:07.230 2025-03-21 16:21:50.127   \n",
       "3          20250301 2025-03-01 09:42:16.990 2025-03-01 09:48:03.577   \n",
       "4          20250302 2025-03-02 09:20:46.240 2025-03-02 09:27:47.617   \n",
       "\n",
       "   TAPMinutos  PacienteID  PacienteSP PacienteGenero PacienteFechaNacimiento  \\\n",
       "0        7.05  17256328.0  17520850.0       FEMENINO              1971-07-24   \n",
       "1        5.48  46138407.0   9225063.0       FEMENINO              1967-02-08   \n",
       "2        6.72  41262646.0   4138508.0       FEMENINO              1948-09-23   \n",
       "3        5.78  48597444.0  11686051.0       FEMENINO              1976-04-07   \n",
       "4        7.02  63749589.0  47710075.0       FEMENINO              1978-12-28   \n",
       "\n",
       "   PacienteCodigoPostal  \n",
       "0                4310.0  \n",
       "1                3570.0  \n",
       "2                3240.0  \n",
       "3                1410.0  \n",
       "4                4380.0  "
      ]
     },
     "execution_count": 3,
     "metadata": {},
     "output_type": "execute_result"
    }
   ],
   "source": [
    "df_tiempos_pacientes.head()"
   ]
  },
  {
   "cell_type": "markdown",
   "metadata": {},
   "source": [
    "### Creating a copy to work on"
   ]
  },
  {
   "cell_type": "code",
   "execution_count": 4,
   "metadata": {},
   "outputs": [],
   "source": [
    "df_copy = df_tiempos_pacientes.copy()"
   ]
  },
  {
   "cell_type": "markdown",
   "metadata": {},
   "source": [
    "### Checking Columns"
   ]
  },
  {
   "cell_type": "code",
   "execution_count": 6,
   "metadata": {},
   "outputs": [
    {
     "data": {
      "text/plain": [
       "Index(['Sucursal', 'EstudioModalidad', 'ReservacionSP', 'TEPFechaEspera',\n",
       "       'TEPHoraInicio', 'TEPHoraFin', 'TEPMinutos', 'TAPFechaAtencion',\n",
       "       'TAPHoraInicio', 'TAPHoraFin', 'TAPMinutos', 'PacienteID', 'PacienteSP',\n",
       "       'PacienteGenero', 'PacienteFechaNacimiento', 'PacienteCodigoPostal'],\n",
       "      dtype='object')"
      ]
     },
     "execution_count": 6,
     "metadata": {},
     "output_type": "execute_result"
    }
   ],
   "source": [
    "df_copy.columns"
   ]
  },
  {
   "cell_type": "markdown",
   "metadata": {},
   "source": [
    "### Droping Unecessary Columns"
   ]
  },
  {
   "cell_type": "code",
   "execution_count": 7,
   "metadata": {},
   "outputs": [],
   "source": [
    "df_copy.drop(columns = [\"ReservacionSP\", \"PacienteCodigoPostal\"], inplace=True)"
   ]
  },
  {
   "cell_type": "markdown",
   "metadata": {},
   "source": [
    "### Droping Duplicates"
   ]
  },
  {
   "cell_type": "code",
   "execution_count": 8,
   "metadata": {},
   "outputs": [],
   "source": [
    "df_copy.drop_duplicates(inplace=True)"
   ]
  },
  {
   "cell_type": "markdown",
   "metadata": {},
   "source": [
    "### Fixing Bad calculations"
   ]
  },
  {
   "cell_type": "code",
   "execution_count": 9,
   "metadata": {},
   "outputs": [],
   "source": [
    "### Arreglando datos donde TEPHoraInicio tiene una hora posterior a TEPHoraFin\n",
    "\n",
    "# Identificar los casos donde la hora de inicio es posterior a la hora de fin\n",
    "# Esto crea una máscara booleana que será True para los registros con tiempos invertidos\n",
    "mask_tiempos_invertidos = df_copy['TEPHoraInicio'] > df_copy['TEPHoraFin']\n",
    "\n",
    "# Guardar temporalmente los valores de hora de inicio para los casos con tiempos invertidos\n",
    "tmp = df_copy.loc[mask_tiempos_invertidos, 'TEPHoraInicio'].copy()\n",
    "\n",
    "# Intercambiar los valores: la hora de inicio ahora será la hora de fin\n",
    "df_copy.loc[mask_tiempos_invertidos, 'TEPHoraInicio'] = df_copy.loc[mask_tiempos_invertidos, 'TEPHoraFin']\n",
    "\n",
    "# La hora de fin ahora será el valor original de la hora de inicio (guardado en tmp)\n",
    "df_copy.loc[mask_tiempos_invertidos, 'TEPHoraFin'] = tmp\n",
    "\n",
    "# Asignar TAPHoraInicio igual a TEPHoraFin en los registros afectados\n",
    "df_copy.loc[mask_tiempos_invertidos, 'TAPHoraInicio'] = df_copy.loc[mask_tiempos_invertidos, 'TEPHoraFin']\n",
    "\n"
   ]
  },
  {
   "cell_type": "code",
   "execution_count": 10,
   "metadata": {},
   "outputs": [],
   "source": [
    "# Cálculo de los minutos\n",
    "df_copy.loc[mask_tiempos_invertidos, 'TEPMinutos'] = (df_copy.loc[mask_tiempos_invertidos, 'TEPHoraFin'] - df_copy.loc[mask_tiempos_invertidos, 'TEPHoraInicio']).dt.total_seconds() / 60"
   ]
  },
  {
   "cell_type": "code",
   "execution_count": 11,
   "metadata": {},
   "outputs": [],
   "source": [
    "df_copy.loc[mask_tiempos_invertidos, 'TAPHoraFin'] = df_copy.loc[mask_tiempos_invertidos, 'TAPHoraInicio'] + pd.to_timedelta(df_copy.loc[mask_tiempos_invertidos, 'TAPMinutos'], unit='m')"
   ]
  },
  {
   "cell_type": "code",
   "execution_count": 12,
   "metadata": {},
   "outputs": [],
   "source": [
    "### Arreglando datos donde TAPHoraInicio tiene una hora posterior a TAPHoraFin\n",
    "\n",
    "# Identificar los casos donde la hora de inicio es posterior a la hora de fin\n",
    "# Esto crea una máscara booleana que será True para los registros con tiempos invertidos\n",
    "mask_tiempos_invertidos = df_copy['TAPHoraInicio'] > df_copy['TAPHoraFin']\n",
    "\n",
    "# Guardar temporalmente los valores de hora de inicio para los casos con tiempos invertidos\n",
    "tmp = df_copy.loc[mask_tiempos_invertidos, 'TAPHoraInicio'].copy()\n",
    "\n",
    "# Intercambiar los valores: la hora de inicio ahora será la hora de fin\n",
    "df_copy.loc[mask_tiempos_invertidos, 'TAPHoraInicio'] = df_copy.loc[mask_tiempos_invertidos, 'TAPHoraFin']\n",
    "\n",
    "# La hora de fin ahora será el valor original de la hora de inicio (guardado en tmp)\n",
    "df_copy.loc[mask_tiempos_invertidos, 'TAPHoraFin'] = tmp"
   ]
  },
  {
   "cell_type": "code",
   "execution_count": 13,
   "metadata": {},
   "outputs": [],
   "source": [
    "df_copy.loc[mask_tiempos_invertidos, 'TAPMinutos'] = (df_copy.loc[mask_tiempos_invertidos, 'TAPHoraFin'] - df_copy.loc[mask_tiempos_invertidos, 'TAPHoraInicio']).dt.total_seconds() / 60"
   ]
  },
  {
   "cell_type": "code",
   "execution_count": 14,
   "metadata": {},
   "outputs": [],
   "source": [
    "### Arreglando datos con TEPHoraInicio con año 1900\n",
    "\n",
    "# Identificar registros donde TEPHoraInicio tiene el año 1900\n",
    "mask_1900 = df_copy['TEPHoraInicio'].dt.year == 1900\n",
    "\n",
    "# Comparar solo la hora de TEPHoraInicio con la hora de TEPHoraFin\n",
    "mask_hora_invertida = df_copy.loc[mask_1900, 'TEPHoraInicio'].dt.time > df_copy.loc[mask_1900, 'TEPHoraFin'].dt.time\n",
    "\n",
    "# Intercambiar los valores de TEPHoraInicio y TEPHoraFin en los casos donde la hora de inicio es mayor\n",
    "tmp = df_copy.loc[mask_1900 & mask_hora_invertida, 'TEPHoraInicio'].copy()\n",
    "df_copy.loc[mask_1900 & mask_hora_invertida, 'TEPHoraInicio'] = df_copy.loc[mask_1900 & mask_hora_invertida, 'TEPHoraFin']\n",
    "df_copy.loc[mask_1900 & mask_hora_invertida, 'TEPHoraFin'] = tmp\n",
    "\n",
    "# Recalcular TAPHoraInicio para los registros afectados\n",
    "df_copy.loc[mask_1900 & mask_hora_invertida, 'TAPHoraInicio'] = df_copy.loc[mask_1900 & mask_hora_invertida, 'TEPHoraFin']"
   ]
  },
  {
   "cell_type": "code",
   "execution_count": 15,
   "metadata": {},
   "outputs": [],
   "source": [
    "# Encuentra las filas donde el año de TEPHoraFin es 1900\n",
    "mask = df_copy['TEPHoraFin'].dt.year == 1900\n",
    "\n",
    "df_copy.loc[mask, 'TEPHoraFin'] = df_copy.loc[mask].apply(\n",
    "    lambda row: row['TEPHoraInicio'].replace(\n",
    "        hour=row['TEPHoraFin'].hour,\n",
    "        minute=row['TEPHoraFin'].minute,\n",
    "        second=row['TEPHoraFin'].second,\n",
    "        microsecond=row['TEPHoraFin'].microsecond\n",
    "    ),\n",
    "    axis=1\n",
    ")\n",
    "\n",
    "\n",
    "# Reemplaza la fecha completa por la de TEPHoraFin, conservando la hora y minutos de TEPHoraInicio\n",
    "\n",
    "mask = df_copy['TEPHoraInicio'].dt.year == 1900\n",
    "\n",
    "df_copy.loc[mask, 'TEPHoraInicio'] = df_copy.loc[mask].apply(\n",
    "    lambda row: row['TEPHoraFin'].replace(\n",
    "        hour=row['TEPHoraInicio'].hour,\n",
    "        minute=row['TEPHoraInicio'].minute,\n",
    "        second=row['TEPHoraInicio'].second,\n",
    "        microsecond=row['TEPHoraInicio'].microsecond\n",
    "    ),\n",
    "    axis=1\n",
    ")\n"
   ]
  },
  {
   "cell_type": "code",
   "execution_count": 16,
   "metadata": {},
   "outputs": [],
   "source": [
    "# Encuentra las filas donde el año de TAPHoraFin es 1900\n",
    "mask = df_copy['TAPHoraFin'].dt.year == 1900\n",
    "\n",
    "df_copy.loc[mask, 'TAPHoraFin'] = df_copy.loc[mask].apply(\n",
    "    lambda row: row['TAPHoraInicio'].replace(\n",
    "        hour=row['TAPHoraFin'].hour,\n",
    "        minute=row['TAPHoraFin'].minute,\n",
    "        second=row['TAPHoraFin'].second,\n",
    "        microsecond=row['TAPHoraFin'].microsecond\n",
    "    ),\n",
    "    axis=1\n",
    ")\n",
    "\n",
    "# Reemplaza la fecha completa por la de TAPHoraFin, conservando la hora y minutos de TAPHoraInicio\n",
    "mask = df_copy['TAPHoraInicio'].dt.year == 1900\n",
    "\n",
    "df_copy.loc[mask, 'TAPHoraInicio'] = df_copy.loc[mask].apply(\n",
    "    lambda row: row['TAPHoraFin'].replace(\n",
    "        hour=row['TAPHoraInicio'].hour,\n",
    "        minute=row['TAPHoraInicio'].minute,\n",
    "        second=row['TAPHoraInicio'].second,\n",
    "        microsecond=row['TAPHoraInicio'].microsecond\n",
    "    ),\n",
    "    axis=1\n",
    ")"
   ]
  },
  {
   "cell_type": "code",
   "execution_count": 17,
   "metadata": {},
   "outputs": [],
   "source": [
    "# Encuentra los casos donde TEPHoraFin > TAPHoraInicio (o el criterio que determines)\n",
    "mask = df_copy[\"TEPHoraFin\"] > df_copy[\"TAPHoraInicio\"]\n",
    "\n",
    "def ordenar_y_recalcular(row):\n",
    "    # Toma los cuatro timestamps\n",
    "    tiempos = [\n",
    "        row[\"TEPHoraInicio\"],\n",
    "        row[\"TEPHoraFin\"],\n",
    "        row[\"TAPHoraInicio\"],\n",
    "        row[\"TAPHoraFin\"]\n",
    "    ]\n",
    "    # Ordena de menor a mayor\n",
    "    tiempos_ordenados = sorted(tiempos)\n",
    "    # Los dos del medio deben ser iguales\n",
    "    tiempos_ordenados[1] = tiempos_ordenados[2] = tiempos_ordenados[1]\n",
    "    # Asigna de vuelta\n",
    "    row[\"TEPHoraInicio\"] = tiempos_ordenados[0]\n",
    "    row[\"TEPHoraFin\"] = tiempos_ordenados[1]\n",
    "    row[\"TAPHoraInicio\"] = tiempos_ordenados[2]\n",
    "    row[\"TAPHoraFin\"] = tiempos_ordenados[3]\n",
    "    # Recalcula los minutos\n",
    "    row[\"TEPMinutos\"] = (row[\"TEPHoraFin\"] - row[\"TEPHoraInicio\"]).total_seconds() / 60\n",
    "    row[\"TAPMinutos\"] = (row[\"TAPHoraFin\"] - row[\"TAPHoraInicio\"]).total_seconds() / 60\n",
    "    return row\n",
    "\n",
    "# Aplica la función solo a las filas que cumplen el criterio\n",
    "df_copy.loc[mask] = df_copy.loc[mask].apply(ordenar_y_recalcular, axis=1)"
   ]
  },
  {
   "cell_type": "code",
   "execution_count": 18,
   "metadata": {},
   "outputs": [
    {
     "data": {
      "text/plain": [
       "Sucursal                      0\n",
       "EstudioModalidad              0\n",
       "TEPFechaEspera                0\n",
       "TEPHoraInicio                32\n",
       "TEPHoraFin                 1611\n",
       "TEPMinutos                    0\n",
       "TAPFechaAtencion              0\n",
       "TAPHoraInicio              1612\n",
       "TAPHoraFin                    0\n",
       "TAPMinutos                 1612\n",
       "PacienteID                    0\n",
       "PacienteSP                    0\n",
       "PacienteGenero                0\n",
       "PacienteFechaNacimiento       0\n",
       "dtype: int64"
      ]
     },
     "execution_count": 18,
     "metadata": {},
     "output_type": "execute_result"
    }
   ],
   "source": [
    "df_copy[df_copy[\"TEPHoraFin\"] != df_copy[\"TAPHoraInicio\"]].isnull().sum()"
   ]
  },
  {
   "cell_type": "code",
   "execution_count": 19,
   "metadata": {},
   "outputs": [
    {
     "name": "stdout",
     "output_type": "stream",
     "text": [
      "True\n",
      "True\n",
      "105631\n",
      "True\n",
      "True\n",
      "True\n",
      "0\n"
     ]
    }
   ],
   "source": [
    "### Testear si los datos se han arreglado\n",
    "\n",
    "print(df_copy[df_copy[\"TEPHoraInicio\"] > df_copy[\"TEPHoraFin\"]].shape[0] == 0)\n",
    "print(df_copy[df_copy[\"TAPHoraInicio\"] > df_copy[\"TAPHoraFin\"]].shape[0] == 0)\n",
    "print(df_copy[df_copy[\"TEPHoraFin\"] == df_copy[\"TAPHoraInicio\"]].shape[0])\n",
    "print(df_copy[df_copy[\"TEPMinutos\"] < 0].shape[0] == 0)\n",
    "print(df_copy[df_copy[\"TAPMinutos\"] < 0].shape[0] == 0)\n",
    "print(df_copy[df_copy[\"TAPHoraInicio\"] == df_copy[\"TEPHoraInicio\"]].shape[0] == 1)\n",
    "\n",
    "print((df_copy['TEPHoraInicio'].dt.year == 1900).sum())\n"
   ]
  },
  {
   "cell_type": "markdown",
   "metadata": {},
   "source": [
    "### Max number of studies per \"sucursal\""
   ]
  },
  {
   "cell_type": "code",
   "execution_count": 20,
   "metadata": {},
   "outputs": [],
   "source": [
    "df_analisis = df_copy.copy()\n",
    "\n",
    "# Si la columna es tipo int o string, conviértela a datetime\n",
    "df_analisis['TEPFechaEspera'] = pd.to_datetime(df_analisis['TEPFechaEspera'], format='%Y%m%d')"
   ]
  },
  {
   "cell_type": "code",
   "execution_count": 21,
   "metadata": {},
   "outputs": [
    {
     "name": "stdout",
     "output_type": "stream",
     "text": [
      "                   Sucursal  num_estudios\n",
      "0                  COYOACAN            10\n",
      "1                  CULIACAN             7\n",
      "2          CULIACAN CAÑADAS             8\n",
      "3  CULIACAN COLEGIO MILITAR             8\n",
      "4     CULIACAN LA CONQUISTA             4\n",
      "5       CULIACAN LAS TORRES             7\n",
      "6         CULIACAN NAKAYAMA             5\n",
      "7   CULIACAN UNIVERSITARIOS             8\n"
     ]
    }
   ],
   "source": [
    "# Agrupa por paciente, sucursal y fecha, y cuenta los estudios\n",
    "conteo = df_analisis.groupby(['PacienteID', 'Sucursal', 'TEPFechaEspera']).size().reset_index(name='num_estudios')\n",
    "\n",
    "# Ahora, para cada sucursal, encuentra el máximo número de estudios hechos por un paciente en un día\n",
    "maximos_por_sucursal = conteo.groupby('Sucursal')['num_estudios'].max().reset_index()\n",
    "\n",
    "print(maximos_por_sucursal)"
   ]
  },
  {
   "cell_type": "code",
   "execution_count": 22,
   "metadata": {},
   "outputs": [
    {
     "data": {
      "text/html": [
       "<div>\n",
       "<style scoped>\n",
       "    .dataframe tbody tr th:only-of-type {\n",
       "        vertical-align: middle;\n",
       "    }\n",
       "\n",
       "    .dataframe tbody tr th {\n",
       "        vertical-align: top;\n",
       "    }\n",
       "\n",
       "    .dataframe thead th {\n",
       "        text-align: right;\n",
       "    }\n",
       "</style>\n",
       "<table border=\"1\" class=\"dataframe\">\n",
       "  <thead>\n",
       "    <tr style=\"text-align: right;\">\n",
       "      <th></th>\n",
       "      <th>PacienteID</th>\n",
       "      <th>Sucursal</th>\n",
       "      <th>TEPFechaEspera</th>\n",
       "      <th>num_estudios</th>\n",
       "    </tr>\n",
       "  </thead>\n",
       "  <tbody>\n",
       "    <tr>\n",
       "      <th>60437</th>\n",
       "      <td>65424279.0</td>\n",
       "      <td>COYOACAN</td>\n",
       "      <td>2025-03-14</td>\n",
       "      <td>10</td>\n",
       "    </tr>\n",
       "    <tr>\n",
       "      <th>61672</th>\n",
       "      <td>65490573.0</td>\n",
       "      <td>COYOACAN</td>\n",
       "      <td>2025-03-19</td>\n",
       "      <td>9</td>\n",
       "    </tr>\n",
       "    <tr>\n",
       "      <th>41933</th>\n",
       "      <td>47525412.0</td>\n",
       "      <td>COYOACAN</td>\n",
       "      <td>2025-03-01</td>\n",
       "      <td>9</td>\n",
       "    </tr>\n",
       "    <tr>\n",
       "      <th>36586</th>\n",
       "      <td>42625626.0</td>\n",
       "      <td>COYOACAN</td>\n",
       "      <td>2025-03-02</td>\n",
       "      <td>9</td>\n",
       "    </tr>\n",
       "    <tr>\n",
       "      <th>45071</th>\n",
       "      <td>50544398.0</td>\n",
       "      <td>COYOACAN</td>\n",
       "      <td>2025-03-03</td>\n",
       "      <td>8</td>\n",
       "    </tr>\n",
       "    <tr>\n",
       "      <th>...</th>\n",
       "      <td>...</td>\n",
       "      <td>...</td>\n",
       "      <td>...</td>\n",
       "      <td>...</td>\n",
       "    </tr>\n",
       "    <tr>\n",
       "      <th>25191</th>\n",
       "      <td>38219630.0</td>\n",
       "      <td>CULIACAN</td>\n",
       "      <td>2025-03-13</td>\n",
       "      <td>1</td>\n",
       "    </tr>\n",
       "    <tr>\n",
       "      <th>25192</th>\n",
       "      <td>38220190.0</td>\n",
       "      <td>CULIACAN</td>\n",
       "      <td>2025-03-15</td>\n",
       "      <td>1</td>\n",
       "    </tr>\n",
       "    <tr>\n",
       "      <th>25193</th>\n",
       "      <td>38220190.0</td>\n",
       "      <td>CULIACAN LA CONQUISTA</td>\n",
       "      <td>2025-03-04</td>\n",
       "      <td>1</td>\n",
       "    </tr>\n",
       "    <tr>\n",
       "      <th>25195</th>\n",
       "      <td>38220781.0</td>\n",
       "      <td>CULIACAN NAKAYAMA</td>\n",
       "      <td>2025-03-01</td>\n",
       "      <td>1</td>\n",
       "    </tr>\n",
       "    <tr>\n",
       "      <th>64675</th>\n",
       "      <td>65658298.0</td>\n",
       "      <td>COYOACAN</td>\n",
       "      <td>2025-03-31</td>\n",
       "      <td>1</td>\n",
       "    </tr>\n",
       "  </tbody>\n",
       "</table>\n",
       "<p>64676 rows × 4 columns</p>\n",
       "</div>"
      ],
      "text/plain": [
       "       PacienteID               Sucursal TEPFechaEspera  num_estudios\n",
       "60437  65424279.0               COYOACAN     2025-03-14            10\n",
       "61672  65490573.0               COYOACAN     2025-03-19             9\n",
       "41933  47525412.0               COYOACAN     2025-03-01             9\n",
       "36586  42625626.0               COYOACAN     2025-03-02             9\n",
       "45071  50544398.0               COYOACAN     2025-03-03             8\n",
       "...           ...                    ...            ...           ...\n",
       "25191  38219630.0               CULIACAN     2025-03-13             1\n",
       "25192  38220190.0               CULIACAN     2025-03-15             1\n",
       "25193  38220190.0  CULIACAN LA CONQUISTA     2025-03-04             1\n",
       "25195  38220781.0      CULIACAN NAKAYAMA     2025-03-01             1\n",
       "64675  65658298.0               COYOACAN     2025-03-31             1\n",
       "\n",
       "[64676 rows x 4 columns]"
      ]
     },
     "execution_count": 22,
     "metadata": {},
     "output_type": "execute_result"
    }
   ],
   "source": [
    "conteo.sort_values(by = \"num_estudios\", ascending = False)"
   ]
  },
  {
   "cell_type": "markdown",
   "metadata": {},
   "source": [
    "### Checking and treating Null Values"
   ]
  },
  {
   "cell_type": "code",
   "execution_count": 23,
   "metadata": {},
   "outputs": [],
   "source": [
    "df_copy_null = df_copy.copy()"
   ]
  },
  {
   "cell_type": "code",
   "execution_count": 24,
   "metadata": {},
   "outputs": [
    {
     "data": {
      "text/plain": [
       "Sucursal                       0\n",
       "EstudioModalidad               0\n",
       "TEPFechaEspera                 0\n",
       "TEPHoraInicio                233\n",
       "TEPHoraFin                  1611\n",
       "TEPMinutos                     0\n",
       "TAPFechaAtencion               0\n",
       "TAPHoraInicio               1612\n",
       "TAPHoraFin                  1452\n",
       "TAPMinutos                  3064\n",
       "PacienteID                 14508\n",
       "PacienteSP                 14508\n",
       "PacienteGenero             14508\n",
       "PacienteFechaNacimiento    14508\n",
       "dtype: int64"
      ]
     },
     "execution_count": 24,
     "metadata": {},
     "output_type": "execute_result"
    }
   ],
   "source": [
    "df_copy_null.isnull().sum()"
   ]
  },
  {
   "cell_type": "code",
   "execution_count": 25,
   "metadata": {},
   "outputs": [
    {
     "name": "stdout",
     "output_type": "stream",
     "text": [
      "Número de registros después de eliminar los nulos simultáneos: 105665\n"
     ]
    }
   ],
   "source": [
    "# Eliminar registros donde TEPHoraFin y TAPHoraInicio son nulos simultáneamente\n",
    "df_copy_null = df_copy_null[\n",
    "    ~(df_copy_null['TEPHoraFin'].isnull() & \n",
    "      df_copy_null['TAPHoraInicio'].isnull())\n",
    "]\n",
    "\n",
    "# Verificar cuántos registros quedaron\n",
    "print(f\"Número de registros después de eliminar los nulos simultáneos: {len(df_copy_null)}\")"
   ]
  },
  {
   "cell_type": "code",
   "execution_count": 26,
   "metadata": {},
   "outputs": [
    {
     "data": {
      "text/plain": [
       "Sucursal                       0\n",
       "EstudioModalidad               0\n",
       "TEPFechaEspera                 0\n",
       "TEPHoraInicio                233\n",
       "TEPHoraFin                     0\n",
       "TEPMinutos                     0\n",
       "TAPFechaAtencion               0\n",
       "TAPHoraInicio                  1\n",
       "TAPHoraFin                  1452\n",
       "TAPMinutos                  1453\n",
       "PacienteID                 14508\n",
       "PacienteSP                 14508\n",
       "PacienteGenero             14508\n",
       "PacienteFechaNacimiento    14508\n",
       "dtype: int64"
      ]
     },
     "execution_count": 26,
     "metadata": {},
     "output_type": "execute_result"
    }
   ],
   "source": [
    "df_copy_null.isnull().sum()"
   ]
  },
  {
   "cell_type": "code",
   "execution_count": 27,
   "metadata": {},
   "outputs": [],
   "source": [
    "def remove_outliers(df, column):\n",
    "    Q1 = df[column].quantile(0.25)\n",
    "    Q3 = df[column].quantile(0.75)\n",
    "    IQR = Q3 - Q1\n",
    "    lower_bound = Q1 - 1.5 * IQR\n",
    "    upper_bound = Q3 + 1.5 * IQR\n",
    "    return df[(df[column] >= lower_bound) & (df[column] <= upper_bound)]\n",
    "\n",
    "# Crear una copia del DataFrame para no modificar el original\n",
    "df_sin_outliers = df_copy.copy()\n",
    "\n",
    "# Remover outliers de TEPMinutos y TAPMinutos\n",
    "df_sin_outliers = remove_outliers(df_sin_outliers, 'TEPMinutos')\n",
    "df_sin_outliers = remove_outliers(df_sin_outliers, 'TAPMinutos')\n",
    "\n",
    "# Calcular las medias sin outliers\n",
    "medias_sin_outliers = df_sin_outliers.groupby(['Sucursal', 'EstudioModalidad']).agg({\n",
    "    'TEPMinutos': 'mean',\n",
    "    'TAPMinutos': 'mean'\n",
    "}).reset_index()\n",
    "\n"
   ]
  },
  {
   "cell_type": "code",
   "execution_count": 28,
   "metadata": {},
   "outputs": [
    {
     "data": {
      "text/html": [
       "<div>\n",
       "<style scoped>\n",
       "    .dataframe tbody tr th:only-of-type {\n",
       "        vertical-align: middle;\n",
       "    }\n",
       "\n",
       "    .dataframe tbody tr th {\n",
       "        vertical-align: top;\n",
       "    }\n",
       "\n",
       "    .dataframe thead th {\n",
       "        text-align: right;\n",
       "    }\n",
       "</style>\n",
       "<table border=\"1\" class=\"dataframe\">\n",
       "  <thead>\n",
       "    <tr style=\"text-align: right;\">\n",
       "      <th></th>\n",
       "      <th>Sucursal</th>\n",
       "      <th>EstudioModalidad</th>\n",
       "      <th>TEPMinutos</th>\n",
       "      <th>TAPMinutos</th>\n",
       "    </tr>\n",
       "  </thead>\n",
       "  <tbody>\n",
       "    <tr>\n",
       "      <th>0</th>\n",
       "      <td>COYOACAN</td>\n",
       "      <td>DENSITOMETRIA</td>\n",
       "      <td>15.400760</td>\n",
       "      <td>6.610322</td>\n",
       "    </tr>\n",
       "    <tr>\n",
       "      <th>1</th>\n",
       "      <td>COYOACAN</td>\n",
       "      <td>ELECTROCARDIOGRAMA</td>\n",
       "      <td>11.174525</td>\n",
       "      <td>6.690047</td>\n",
       "    </tr>\n",
       "    <tr>\n",
       "      <th>2</th>\n",
       "      <td>COYOACAN</td>\n",
       "      <td>LABORATORIO</td>\n",
       "      <td>3.600297</td>\n",
       "      <td>3.164254</td>\n",
       "    </tr>\n",
       "    <tr>\n",
       "      <th>3</th>\n",
       "      <td>COYOACAN</td>\n",
       "      <td>MASTOGRAFIA</td>\n",
       "      <td>13.893288</td>\n",
       "      <td>8.694221</td>\n",
       "    </tr>\n",
       "    <tr>\n",
       "      <th>4</th>\n",
       "      <td>COYOACAN</td>\n",
       "      <td>NUTRICION</td>\n",
       "      <td>9.008350</td>\n",
       "      <td>10.757314</td>\n",
       "    </tr>\n",
       "    <tr>\n",
       "      <th>...</th>\n",
       "      <td>...</td>\n",
       "      <td>...</td>\n",
       "      <td>...</td>\n",
       "      <td>...</td>\n",
       "    </tr>\n",
       "    <tr>\n",
       "      <th>62</th>\n",
       "      <td>CULIACAN UNIVERSITARIOS</td>\n",
       "      <td>NUTRICION</td>\n",
       "      <td>6.183625</td>\n",
       "      <td>14.408788</td>\n",
       "    </tr>\n",
       "    <tr>\n",
       "      <th>63</th>\n",
       "      <td>CULIACAN UNIVERSITARIOS</td>\n",
       "      <td>OPTOMETRIA</td>\n",
       "      <td>5.665942</td>\n",
       "      <td>8.877630</td>\n",
       "    </tr>\n",
       "    <tr>\n",
       "      <th>64</th>\n",
       "      <td>CULIACAN UNIVERSITARIOS</td>\n",
       "      <td>PAPANICOLAOU</td>\n",
       "      <td>8.380141</td>\n",
       "      <td>6.809195</td>\n",
       "    </tr>\n",
       "    <tr>\n",
       "      <th>65</th>\n",
       "      <td>CULIACAN UNIVERSITARIOS</td>\n",
       "      <td>RAYOS X</td>\n",
       "      <td>8.347880</td>\n",
       "      <td>4.602209</td>\n",
       "    </tr>\n",
       "    <tr>\n",
       "      <th>66</th>\n",
       "      <td>CULIACAN UNIVERSITARIOS</td>\n",
       "      <td>ULTRASONIDO</td>\n",
       "      <td>16.881224</td>\n",
       "      <td>10.202862</td>\n",
       "    </tr>\n",
       "  </tbody>\n",
       "</table>\n",
       "<p>67 rows × 4 columns</p>\n",
       "</div>"
      ],
      "text/plain": [
       "                   Sucursal    EstudioModalidad  TEPMinutos  TAPMinutos\n",
       "0                  COYOACAN       DENSITOMETRIA   15.400760    6.610322\n",
       "1                  COYOACAN  ELECTROCARDIOGRAMA   11.174525    6.690047\n",
       "2                  COYOACAN         LABORATORIO    3.600297    3.164254\n",
       "3                  COYOACAN         MASTOGRAFIA   13.893288    8.694221\n",
       "4                  COYOACAN           NUTRICION    9.008350   10.757314\n",
       "..                      ...                 ...         ...         ...\n",
       "62  CULIACAN UNIVERSITARIOS           NUTRICION    6.183625   14.408788\n",
       "63  CULIACAN UNIVERSITARIOS          OPTOMETRIA    5.665942    8.877630\n",
       "64  CULIACAN UNIVERSITARIOS        PAPANICOLAOU    8.380141    6.809195\n",
       "65  CULIACAN UNIVERSITARIOS             RAYOS X    8.347880    4.602209\n",
       "66  CULIACAN UNIVERSITARIOS         ULTRASONIDO   16.881224   10.202862\n",
       "\n",
       "[67 rows x 4 columns]"
      ]
     },
     "execution_count": 28,
     "metadata": {},
     "output_type": "execute_result"
    }
   ],
   "source": [
    "medias_sin_outliers"
   ]
  },
  {
   "cell_type": "code",
   "execution_count": 29,
   "metadata": {},
   "outputs": [],
   "source": [
    "### Imputacion en valores nulos en TEPHoraFin\n",
    "# Primero, creamos un diccionario con las medias para facilitar el acceso\n",
    "medias_dict = medias_sin_outliers.set_index(['Sucursal', 'EstudioModalidad']).to_dict('index')"
   ]
  },
  {
   "cell_type": "code",
   "execution_count": 30,
   "metadata": {},
   "outputs": [],
   "source": [
    "def imputar_tapminutos(row):\n",
    "    if pd.isnull(row[\"TAPMinutos\"]):\n",
    "        media = medias_dict.get((row[\"Sucursal\"], row[\"EstudioModalidad\"]), {}).get(\"TAPMinutos\", 0)\n",
    "        return media\n",
    "    return row[\"TAPMinutos\"]\n",
    "\n",
    "df_copy_null[\"TAPMinutos\"] = df_copy_null.apply(imputar_tapminutos, axis=1)"
   ]
  },
  {
   "cell_type": "code",
   "execution_count": 31,
   "metadata": {},
   "outputs": [],
   "source": [
    "# Recalcular TAPHoraFin solo cuando sea nulo\n",
    "mask_tephorafin_nulo = df_copy_null[\"TAPHoraFin\"].isnull()\n",
    "df_copy_null.loc[mask_tephorafin_nulo, \"TAPHoraFin\"] = df_copy_null.loc[mask_tephorafin_nulo, \"TAPHoraInicio\"] + pd.to_timedelta(df_copy_null.loc[mask_tephorafin_nulo, \"TAPMinutos\"], unit=\"minutes\")\n",
    "\n",
    "# Recalcular TAPHoraInicio solo cuando sea nulo\n",
    "mask_tephorainicio_nulo = df_copy_null[\"TAPHoraInicio\"].isnull()\n",
    "df_copy_null.loc[mask_tephorainicio_nulo, \"TAPHoraInicio\"] = df_copy_null.loc[mask_tephorainicio_nulo, \"TAPHoraFin\"] - pd.to_timedelta(df_copy_null.loc[mask_tephorainicio_nulo, \"TAPMinutos\"], unit=\"minutes\")"
   ]
  },
  {
   "cell_type": "code",
   "execution_count": 32,
   "metadata": {},
   "outputs": [
    {
     "data": {
      "text/plain": [
       "Sucursal                       0\n",
       "EstudioModalidad               0\n",
       "TEPFechaEspera                 0\n",
       "TEPHoraInicio                233\n",
       "TEPHoraFin                     0\n",
       "TEPMinutos                     0\n",
       "TAPFechaAtencion               0\n",
       "TAPHoraInicio                  0\n",
       "TAPHoraFin                     0\n",
       "TAPMinutos                     0\n",
       "PacienteID                 14508\n",
       "PacienteSP                 14508\n",
       "PacienteGenero             14508\n",
       "PacienteFechaNacimiento    14508\n",
       "dtype: int64"
      ]
     },
     "execution_count": 32,
     "metadata": {},
     "output_type": "execute_result"
    }
   ],
   "source": [
    "df_copy_null.isnull().sum()"
   ]
  },
  {
   "cell_type": "code",
   "execution_count": 33,
   "metadata": {},
   "outputs": [],
   "source": [
    "def imputar_tepminutos(row):\n",
    "    if pd.isnull(row[\"TEPHoraInicio\"]) or pd.isnull(row[\"TEPHoraFin\"]):\n",
    "\n",
    "        media = medias_dict.get((row[\"Sucursal\"], row[\"EstudioModalidad\"]), {}).get(\"TEPMinutos\", 0)\n",
    "        return media\n",
    "    return row[\"TEPMinutos\"]\n",
    "\n",
    "df_copy_null[\"TEPMinutos\"] = df_copy_null.apply(imputar_tepminutos, axis=1)"
   ]
  },
  {
   "cell_type": "code",
   "execution_count": 34,
   "metadata": {},
   "outputs": [],
   "source": [
    "def imputar_tephorainicio(row):\n",
    "    if pd.isnull(row[\"TEPHoraInicio\"]):\n",
    "        return row[\"TEPHoraFin\"] - pd.to_timedelta(row[\"TEPMinutos\"], unit=\"minutes\")\n",
    "    return row[\"TEPHoraInicio\"]\n",
    "\n",
    "df_copy_null[\"TEPHoraInicio\"] = df_copy_null.apply(imputar_tephorainicio, axis=1)\n"
   ]
  },
  {
   "cell_type": "code",
   "execution_count": 35,
   "metadata": {},
   "outputs": [
    {
     "data": {
      "text/plain": [
       "Sucursal                       0\n",
       "EstudioModalidad               0\n",
       "TEPFechaEspera                 0\n",
       "TEPHoraInicio                  0\n",
       "TEPHoraFin                     0\n",
       "TEPMinutos                     0\n",
       "TAPFechaAtencion               0\n",
       "TAPHoraInicio                  0\n",
       "TAPHoraFin                     0\n",
       "TAPMinutos                     0\n",
       "PacienteID                 14508\n",
       "PacienteSP                 14508\n",
       "PacienteGenero             14508\n",
       "PacienteFechaNacimiento    14508\n",
       "dtype: int64"
      ]
     },
     "execution_count": 35,
     "metadata": {},
     "output_type": "execute_result"
    }
   ],
   "source": [
    "df_copy_null.isnull().sum()\n"
   ]
  },
  {
   "cell_type": "code",
   "execution_count": 36,
   "metadata": {},
   "outputs": [
    {
     "data": {
      "text/html": [
       "<div>\n",
       "<style scoped>\n",
       "    .dataframe tbody tr th:only-of-type {\n",
       "        vertical-align: middle;\n",
       "    }\n",
       "\n",
       "    .dataframe tbody tr th {\n",
       "        vertical-align: top;\n",
       "    }\n",
       "\n",
       "    .dataframe thead th {\n",
       "        text-align: right;\n",
       "    }\n",
       "</style>\n",
       "<table border=\"1\" class=\"dataframe\">\n",
       "  <thead>\n",
       "    <tr style=\"text-align: right;\">\n",
       "      <th></th>\n",
       "      <th>Sucursal</th>\n",
       "      <th>EstudioModalidad</th>\n",
       "      <th>TEPFechaEspera</th>\n",
       "      <th>TEPHoraInicio</th>\n",
       "      <th>TEPHoraFin</th>\n",
       "      <th>TEPMinutos</th>\n",
       "      <th>TAPFechaAtencion</th>\n",
       "      <th>TAPHoraInicio</th>\n",
       "      <th>TAPHoraFin</th>\n",
       "      <th>TAPMinutos</th>\n",
       "      <th>PacienteID</th>\n",
       "      <th>PacienteSP</th>\n",
       "      <th>PacienteGenero</th>\n",
       "      <th>PacienteFechaNacimiento</th>\n",
       "    </tr>\n",
       "  </thead>\n",
       "  <tbody>\n",
       "    <tr>\n",
       "      <th>0</th>\n",
       "      <td>COYOACAN</td>\n",
       "      <td>DENSITOMETRIA</td>\n",
       "      <td>20250302</td>\n",
       "      <td>2025-03-02 11:40:15.113</td>\n",
       "      <td>2025-03-02 13:20:00.000</td>\n",
       "      <td>99.748117</td>\n",
       "      <td>20250302</td>\n",
       "      <td>2025-03-02 13:20:00.000</td>\n",
       "      <td>2025-03-02 13:27:03.000</td>\n",
       "      <td>7.05</td>\n",
       "      <td>17256328.0</td>\n",
       "      <td>17520850.0</td>\n",
       "      <td>FEMENINO</td>\n",
       "      <td>1971-07-24</td>\n",
       "    </tr>\n",
       "    <tr>\n",
       "      <th>1</th>\n",
       "      <td>COYOACAN</td>\n",
       "      <td>DENSITOMETRIA</td>\n",
       "      <td>20250329</td>\n",
       "      <td>2025-03-29 07:11:15.770</td>\n",
       "      <td>2025-03-29 07:39:49.400</td>\n",
       "      <td>28.570000</td>\n",
       "      <td>20250329</td>\n",
       "      <td>2025-03-29 07:39:49.400</td>\n",
       "      <td>2025-03-29 07:45:18.230</td>\n",
       "      <td>5.48</td>\n",
       "      <td>46138407.0</td>\n",
       "      <td>9225063.0</td>\n",
       "      <td>FEMENINO</td>\n",
       "      <td>1967-02-08</td>\n",
       "    </tr>\n",
       "    <tr>\n",
       "      <th>2</th>\n",
       "      <td>COYOACAN</td>\n",
       "      <td>DENSITOMETRIA</td>\n",
       "      <td>20250321</td>\n",
       "      <td>2025-03-21 15:55:53.723</td>\n",
       "      <td>2025-03-21 16:15:07.230</td>\n",
       "      <td>19.230000</td>\n",
       "      <td>20250321</td>\n",
       "      <td>2025-03-21 16:15:07.230</td>\n",
       "      <td>2025-03-21 16:21:50.127</td>\n",
       "      <td>6.72</td>\n",
       "      <td>41262646.0</td>\n",
       "      <td>4138508.0</td>\n",
       "      <td>FEMENINO</td>\n",
       "      <td>1948-09-23</td>\n",
       "    </tr>\n",
       "    <tr>\n",
       "      <th>3</th>\n",
       "      <td>COYOACAN</td>\n",
       "      <td>DENSITOMETRIA</td>\n",
       "      <td>20250301</td>\n",
       "      <td>2025-03-01 08:03:01.360</td>\n",
       "      <td>2025-03-01 09:42:16.990</td>\n",
       "      <td>99.250000</td>\n",
       "      <td>20250301</td>\n",
       "      <td>2025-03-01 09:42:16.990</td>\n",
       "      <td>2025-03-01 09:48:03.577</td>\n",
       "      <td>5.78</td>\n",
       "      <td>48597444.0</td>\n",
       "      <td>11686051.0</td>\n",
       "      <td>FEMENINO</td>\n",
       "      <td>1976-04-07</td>\n",
       "    </tr>\n",
       "    <tr>\n",
       "      <th>4</th>\n",
       "      <td>COYOACAN</td>\n",
       "      <td>DENSITOMETRIA</td>\n",
       "      <td>20250302</td>\n",
       "      <td>2025-03-02 09:20:46.240</td>\n",
       "      <td>2025-03-02 09:40:00.000</td>\n",
       "      <td>19.229333</td>\n",
       "      <td>20250302</td>\n",
       "      <td>2025-03-02 09:40:00.000</td>\n",
       "      <td>2025-03-02 09:47:01.200</td>\n",
       "      <td>7.02</td>\n",
       "      <td>63749589.0</td>\n",
       "      <td>47710075.0</td>\n",
       "      <td>FEMENINO</td>\n",
       "      <td>1978-12-28</td>\n",
       "    </tr>\n",
       "    <tr>\n",
       "      <th>...</th>\n",
       "      <td>...</td>\n",
       "      <td>...</td>\n",
       "      <td>...</td>\n",
       "      <td>...</td>\n",
       "      <td>...</td>\n",
       "      <td>...</td>\n",
       "      <td>...</td>\n",
       "      <td>...</td>\n",
       "      <td>...</td>\n",
       "      <td>...</td>\n",
       "      <td>...</td>\n",
       "      <td>...</td>\n",
       "      <td>...</td>\n",
       "      <td>...</td>\n",
       "    </tr>\n",
       "    <tr>\n",
       "      <th>109159</th>\n",
       "      <td>CULIACAN UNIVERSITARIOS</td>\n",
       "      <td>ULTRASONIDO</td>\n",
       "      <td>20250331</td>\n",
       "      <td>2025-03-31 14:15:13.617</td>\n",
       "      <td>2025-03-31 15:30:00.000</td>\n",
       "      <td>74.773050</td>\n",
       "      <td>20250331</td>\n",
       "      <td>2025-03-31 15:30:00.000</td>\n",
       "      <td>2025-03-31 15:36:34.800</td>\n",
       "      <td>6.58</td>\n",
       "      <td>65655850.0</td>\n",
       "      <td>49673304.0</td>\n",
       "      <td>FEMENINO</td>\n",
       "      <td>1945-10-05</td>\n",
       "    </tr>\n",
       "    <tr>\n",
       "      <th>109160</th>\n",
       "      <td>CULIACAN UNIVERSITARIOS</td>\n",
       "      <td>ULTRASONIDO</td>\n",
       "      <td>20250331</td>\n",
       "      <td>2025-03-31 14:16:51.950</td>\n",
       "      <td>2025-03-31 14:21:41.720</td>\n",
       "      <td>4.830000</td>\n",
       "      <td>20250331</td>\n",
       "      <td>2025-03-31 14:21:41.720</td>\n",
       "      <td>2025-03-31 14:39:08.040</td>\n",
       "      <td>17.45</td>\n",
       "      <td>43677862.0</td>\n",
       "      <td>6683966.0</td>\n",
       "      <td>FEMENINO</td>\n",
       "      <td>1974-10-25</td>\n",
       "    </tr>\n",
       "    <tr>\n",
       "      <th>109161</th>\n",
       "      <td>CULIACAN UNIVERSITARIOS</td>\n",
       "      <td>ULTRASONIDO</td>\n",
       "      <td>20250331</td>\n",
       "      <td>2025-03-31 14:42:47.717</td>\n",
       "      <td>2025-03-31 14:45:00.000</td>\n",
       "      <td>2.204717</td>\n",
       "      <td>20250331</td>\n",
       "      <td>2025-03-31 14:45:00.000</td>\n",
       "      <td>2025-03-31 14:58:09.000</td>\n",
       "      <td>13.15</td>\n",
       "      <td>39631600.0</td>\n",
       "      <td>2500982.0</td>\n",
       "      <td>FEMENINO</td>\n",
       "      <td>1994-10-11</td>\n",
       "    </tr>\n",
       "    <tr>\n",
       "      <th>109162</th>\n",
       "      <td>CULIACAN UNIVERSITARIOS</td>\n",
       "      <td>ULTRASONIDO</td>\n",
       "      <td>20250331</td>\n",
       "      <td>2025-03-31 14:40:03.463</td>\n",
       "      <td>2025-03-31 14:45:00.000</td>\n",
       "      <td>4.942283</td>\n",
       "      <td>20250331</td>\n",
       "      <td>2025-03-31 14:45:00.000</td>\n",
       "      <td>2025-03-31 14:59:00.000</td>\n",
       "      <td>14.00</td>\n",
       "      <td>24634844.0</td>\n",
       "      <td>24587950.0</td>\n",
       "      <td>FEMENINO</td>\n",
       "      <td>1997-03-11</td>\n",
       "    </tr>\n",
       "    <tr>\n",
       "      <th>109163</th>\n",
       "      <td>CULIACAN UNIVERSITARIOS</td>\n",
       "      <td>ULTRASONIDO</td>\n",
       "      <td>20250331</td>\n",
       "      <td>2025-03-31 14:54:31.917</td>\n",
       "      <td>2025-03-31 15:00:00.000</td>\n",
       "      <td>5.468050</td>\n",
       "      <td>20250331</td>\n",
       "      <td>2025-03-31 15:00:00.000</td>\n",
       "      <td>2025-03-31 15:14:55.200</td>\n",
       "      <td>14.92</td>\n",
       "      <td>39856048.0</td>\n",
       "      <td>2727871.0</td>\n",
       "      <td>MASCULINO</td>\n",
       "      <td>1973-09-29</td>\n",
       "    </tr>\n",
       "  </tbody>\n",
       "</table>\n",
       "<p>105665 rows × 14 columns</p>\n",
       "</div>"
      ],
      "text/plain": [
       "                       Sucursal EstudioModalidad  TEPFechaEspera  \\\n",
       "0                      COYOACAN    DENSITOMETRIA        20250302   \n",
       "1                      COYOACAN    DENSITOMETRIA        20250329   \n",
       "2                      COYOACAN    DENSITOMETRIA        20250321   \n",
       "3                      COYOACAN    DENSITOMETRIA        20250301   \n",
       "4                      COYOACAN    DENSITOMETRIA        20250302   \n",
       "...                         ...              ...             ...   \n",
       "109159  CULIACAN UNIVERSITARIOS      ULTRASONIDO        20250331   \n",
       "109160  CULIACAN UNIVERSITARIOS      ULTRASONIDO        20250331   \n",
       "109161  CULIACAN UNIVERSITARIOS      ULTRASONIDO        20250331   \n",
       "109162  CULIACAN UNIVERSITARIOS      ULTRASONIDO        20250331   \n",
       "109163  CULIACAN UNIVERSITARIOS      ULTRASONIDO        20250331   \n",
       "\n",
       "                 TEPHoraInicio              TEPHoraFin  TEPMinutos  \\\n",
       "0      2025-03-02 11:40:15.113 2025-03-02 13:20:00.000   99.748117   \n",
       "1      2025-03-29 07:11:15.770 2025-03-29 07:39:49.400   28.570000   \n",
       "2      2025-03-21 15:55:53.723 2025-03-21 16:15:07.230   19.230000   \n",
       "3      2025-03-01 08:03:01.360 2025-03-01 09:42:16.990   99.250000   \n",
       "4      2025-03-02 09:20:46.240 2025-03-02 09:40:00.000   19.229333   \n",
       "...                        ...                     ...         ...   \n",
       "109159 2025-03-31 14:15:13.617 2025-03-31 15:30:00.000   74.773050   \n",
       "109160 2025-03-31 14:16:51.950 2025-03-31 14:21:41.720    4.830000   \n",
       "109161 2025-03-31 14:42:47.717 2025-03-31 14:45:00.000    2.204717   \n",
       "109162 2025-03-31 14:40:03.463 2025-03-31 14:45:00.000    4.942283   \n",
       "109163 2025-03-31 14:54:31.917 2025-03-31 15:00:00.000    5.468050   \n",
       "\n",
       "        TAPFechaAtencion           TAPHoraInicio              TAPHoraFin  \\\n",
       "0               20250302 2025-03-02 13:20:00.000 2025-03-02 13:27:03.000   \n",
       "1               20250329 2025-03-29 07:39:49.400 2025-03-29 07:45:18.230   \n",
       "2               20250321 2025-03-21 16:15:07.230 2025-03-21 16:21:50.127   \n",
       "3               20250301 2025-03-01 09:42:16.990 2025-03-01 09:48:03.577   \n",
       "4               20250302 2025-03-02 09:40:00.000 2025-03-02 09:47:01.200   \n",
       "...                  ...                     ...                     ...   \n",
       "109159          20250331 2025-03-31 15:30:00.000 2025-03-31 15:36:34.800   \n",
       "109160          20250331 2025-03-31 14:21:41.720 2025-03-31 14:39:08.040   \n",
       "109161          20250331 2025-03-31 14:45:00.000 2025-03-31 14:58:09.000   \n",
       "109162          20250331 2025-03-31 14:45:00.000 2025-03-31 14:59:00.000   \n",
       "109163          20250331 2025-03-31 15:00:00.000 2025-03-31 15:14:55.200   \n",
       "\n",
       "        TAPMinutos  PacienteID  PacienteSP PacienteGenero  \\\n",
       "0             7.05  17256328.0  17520850.0       FEMENINO   \n",
       "1             5.48  46138407.0   9225063.0       FEMENINO   \n",
       "2             6.72  41262646.0   4138508.0       FEMENINO   \n",
       "3             5.78  48597444.0  11686051.0       FEMENINO   \n",
       "4             7.02  63749589.0  47710075.0       FEMENINO   \n",
       "...            ...         ...         ...            ...   \n",
       "109159        6.58  65655850.0  49673304.0       FEMENINO   \n",
       "109160       17.45  43677862.0   6683966.0       FEMENINO   \n",
       "109161       13.15  39631600.0   2500982.0       FEMENINO   \n",
       "109162       14.00  24634844.0  24587950.0       FEMENINO   \n",
       "109163       14.92  39856048.0   2727871.0      MASCULINO   \n",
       "\n",
       "       PacienteFechaNacimiento  \n",
       "0                   1971-07-24  \n",
       "1                   1967-02-08  \n",
       "2                   1948-09-23  \n",
       "3                   1976-04-07  \n",
       "4                   1978-12-28  \n",
       "...                        ...  \n",
       "109159              1945-10-05  \n",
       "109160              1974-10-25  \n",
       "109161              1994-10-11  \n",
       "109162              1997-03-11  \n",
       "109163              1973-09-29  \n",
       "\n",
       "[105665 rows x 14 columns]"
      ]
     },
     "execution_count": 36,
     "metadata": {},
     "output_type": "execute_result"
    }
   ],
   "source": [
    "df_copy_null"
   ]
  },
  {
   "cell_type": "code",
   "execution_count": 37,
   "metadata": {},
   "outputs": [
    {
     "name": "stdout",
     "output_type": "stream",
     "text": [
      "True\n",
      "True\n",
      "105631\n",
      "True\n",
      "True\n",
      "True\n",
      "0\n"
     ]
    }
   ],
   "source": [
    "### Testear que la integridad de los datos se ha mantenido\n",
    "\n",
    "print(df_copy_null[df_copy_null[\"TEPHoraInicio\"] > df_copy_null[\"TEPHoraFin\"]].shape[0] == 0)\n",
    "print(df_copy_null[df_copy_null[\"TAPHoraInicio\"] > df_copy_null[\"TAPHoraFin\"]].shape[0] == 0)\n",
    "print(df_copy_null[df_copy_null[\"TEPHoraFin\"] == df_copy_null[\"TAPHoraInicio\"]].shape[0])\n",
    "print(df_copy_null[df_copy_null[\"TEPMinutos\"] < 0].shape[0] == 0)\n",
    "print(df_copy_null[df_copy_null[\"TAPMinutos\"] < 0].shape[0] == 0)\n",
    "print(df_copy_null[df_copy_null[\"TAPHoraInicio\"] == df_copy_null[\"TEPHoraInicio\"]].shape[0] == 1)\n",
    "print((df_copy_null['TEPHoraInicio'].dt.year == 1900).sum())"
   ]
  },
  {
   "cell_type": "markdown",
   "metadata": {},
   "source": [
    "## Saving Cleaned Data"
   ]
  },
  {
   "cell_type": "code",
   "execution_count": 38,
   "metadata": {},
   "outputs": [],
   "source": [
    "### Guardando datos limpios\n",
    "# Guardar el DataFrame en un archivo Excel\n",
    "\n",
    "df_copy_null.to_excel('Tiempos Pacientes Limpios.xlsx', index=False)\n",
    "medias_sin_outliers.to_excel(\"medias_por_estudio_sucursal.xlsx\")"
   ]
  },
  {
   "cell_type": "code",
   "execution_count": null,
   "metadata": {},
   "outputs": [],
   "source": []
  }
 ],
 "metadata": {
  "kernelspec": {
   "display_name": "base",
   "language": "python",
   "name": "python3"
  },
  "language_info": {
   "codemirror_mode": {
    "name": "ipython",
    "version": 3
   },
   "file_extension": ".py",
   "mimetype": "text/x-python",
   "name": "python",
   "nbconvert_exporter": "python",
   "pygments_lexer": "ipython3",
   "version": "3.12.4"
  }
 },
 "nbformat": 4,
 "nbformat_minor": 2
}
