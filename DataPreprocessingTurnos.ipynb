{
 "cells": [
  {
   "cell_type": "markdown",
   "metadata": {},
   "source": [
    "# Data Preprocessing Turnos"
   ]
  },
  {
   "cell_type": "markdown",
   "metadata": {},
   "source": [
    "## Libraries"
   ]
  },
  {
   "cell_type": "code",
   "execution_count": 1,
   "metadata": {},
   "outputs": [],
   "source": [
    "import pandas as pd\n",
    "import numpy as np"
   ]
  },
  {
   "cell_type": "markdown",
   "metadata": {},
   "source": [
    "## Turnos"
   ]
  },
  {
   "cell_type": "markdown",
   "metadata": {},
   "source": [
    "### Loading Data"
   ]
  },
  {
   "cell_type": "code",
   "execution_count": 14,
   "metadata": {},
   "outputs": [],
   "source": [
    "df_turnos = pd.read_excel(\"Turnos Pacientes.xlsx\")\n"
   ]
  },
  {
   "cell_type": "markdown",
   "metadata": {},
   "source": [
    "### Treating Null Values"
   ]
  },
  {
   "cell_type": "code",
   "execution_count": 15,
   "metadata": {},
   "outputs": [
    {
     "data": {
      "text/plain": [
       "Sucursal                       0\n",
       "FechaID                        0\n",
       "HoraLLegada                    0\n",
       "TurnoID                        0\n",
       "Turno                          0\n",
       "TurnoTipo                      0\n",
       "TurnoHoraInicio                0\n",
       "TurnoHoraFin                   0\n",
       "TurnoMinutosEspera             0\n",
       "TAPRecepcionMinutos        13186\n",
       "TAPRecepcionCaja           13186\n",
       "PacienteID                 22516\n",
       "PacienteSP                 22516\n",
       "PacienteGenero             22516\n",
       "PacienteFechaNacimiento    22516\n",
       "PacienteCodigoPostal       24194\n",
       "dtype: int64"
      ]
     },
     "execution_count": 15,
     "metadata": {},
     "output_type": "execute_result"
    }
   ],
   "source": [
    "df_turnos.isnull().sum()\n"
   ]
  },
  {
   "cell_type": "code",
   "execution_count": 16,
   "metadata": {},
   "outputs": [
    {
     "name": "stdout",
     "output_type": "stream",
     "text": [
      "Medias por sucursal:\n"
     ]
    },
    {
     "data": {
      "text/html": [
       "<div>\n",
       "<style scoped>\n",
       "    .dataframe tbody tr th:only-of-type {\n",
       "        vertical-align: middle;\n",
       "    }\n",
       "\n",
       "    .dataframe tbody tr th {\n",
       "        vertical-align: top;\n",
       "    }\n",
       "\n",
       "    .dataframe thead th {\n",
       "        text-align: right;\n",
       "    }\n",
       "</style>\n",
       "<table border=\"1\" class=\"dataframe\">\n",
       "  <thead>\n",
       "    <tr style=\"text-align: right;\">\n",
       "      <th></th>\n",
       "      <th>Sucursal</th>\n",
       "      <th>TurnoMinutosEspera</th>\n",
       "      <th>TAPRecepcionMinutos</th>\n",
       "    </tr>\n",
       "  </thead>\n",
       "  <tbody>\n",
       "    <tr>\n",
       "      <th>0</th>\n",
       "      <td>COYOACAN</td>\n",
       "      <td>3.829887</td>\n",
       "      <td>4.579268</td>\n",
       "    </tr>\n",
       "    <tr>\n",
       "      <th>1</th>\n",
       "      <td>CULIACAN</td>\n",
       "      <td>2.639769</td>\n",
       "      <td>4.093033</td>\n",
       "    </tr>\n",
       "    <tr>\n",
       "      <th>2</th>\n",
       "      <td>CULIACAN CAÑADAS</td>\n",
       "      <td>4.430737</td>\n",
       "      <td>3.803400</td>\n",
       "    </tr>\n",
       "    <tr>\n",
       "      <th>3</th>\n",
       "      <td>CULIACAN COLEGIO MILITAR</td>\n",
       "      <td>4.319379</td>\n",
       "      <td>3.981984</td>\n",
       "    </tr>\n",
       "    <tr>\n",
       "      <th>4</th>\n",
       "      <td>CULIACAN LA CONQUISTA</td>\n",
       "      <td>4.600687</td>\n",
       "      <td>3.483685</td>\n",
       "    </tr>\n",
       "    <tr>\n",
       "      <th>5</th>\n",
       "      <td>CULIACAN LAS TORRES</td>\n",
       "      <td>3.858902</td>\n",
       "      <td>4.296550</td>\n",
       "    </tr>\n",
       "    <tr>\n",
       "      <th>6</th>\n",
       "      <td>CULIACAN NAKAYAMA</td>\n",
       "      <td>4.872247</td>\n",
       "      <td>3.516931</td>\n",
       "    </tr>\n",
       "    <tr>\n",
       "      <th>7</th>\n",
       "      <td>CULIACAN UNIVERSITARIOS</td>\n",
       "      <td>4.637161</td>\n",
       "      <td>3.630169</td>\n",
       "    </tr>\n",
       "  </tbody>\n",
       "</table>\n",
       "</div>"
      ],
      "text/plain": [
       "                   Sucursal  TurnoMinutosEspera  TAPRecepcionMinutos\n",
       "0                  COYOACAN            3.829887             4.579268\n",
       "1                  CULIACAN            2.639769             4.093033\n",
       "2          CULIACAN CAÑADAS            4.430737             3.803400\n",
       "3  CULIACAN COLEGIO MILITAR            4.319379             3.981984\n",
       "4     CULIACAN LA CONQUISTA            4.600687             3.483685\n",
       "5       CULIACAN LAS TORRES            3.858902             4.296550\n",
       "6         CULIACAN NAKAYAMA            4.872247             3.516931\n",
       "7   CULIACAN UNIVERSITARIOS            4.637161             3.630169"
      ]
     },
     "metadata": {},
     "output_type": "display_data"
    }
   ],
   "source": [
    "### Calcular la media de TurnoMinutosEspera y TAPRecepcionMinutos por cada sucursal\n",
    "# Calcular las medias por sucursal\n",
    "medias_por_sucursal = df_turnos.groupby('Sucursal').agg({\n",
    "    'TurnoMinutosEspera': 'mean',\n",
    "    'TAPRecepcionMinutos': 'mean'\n",
    "}).reset_index()\n",
    "\n",
    "# Mostrar el resultado\n",
    "print(\"Medias por sucursal:\")\n",
    "display(medias_por_sucursal)\n",
    "\n",
    "# Opcional: Guardar en un archivo Excel"
   ]
  },
  {
   "cell_type": "code",
   "execution_count": null,
   "metadata": {},
   "outputs": [],
   "source": [
    "medias_por_sucursal.to_excel('medias_por_sucursal.xlsx')"
   ]
  },
  {
   "cell_type": "code",
   "execution_count": 10,
   "metadata": {},
   "outputs": [],
   "source": [
    "medias_dict = medias_por_sucursal.set_index(['Sucursal']).to_dict('index')"
   ]
  },
  {
   "cell_type": "code",
   "execution_count": 11,
   "metadata": {},
   "outputs": [],
   "source": [
    "def imputar_tap_recepcion(row):\n",
    "    if pd.isnull(row['TAPRecepcionMinutos']):\n",
    "\n",
    "        media = medias_dict.get((row[\"Sucursal\"]), {}).get(\"TAPRecepcionMinutos\", 0)\n",
    "\n",
    "        return media\n",
    "    return row['TurnoMinutosEspera']\n",
    "\n",
    "df_turnos['TAPRecepcionMinutos'] = df_turnos.apply(imputar_tap_recepcion, axis=1)\n",
    "\n"
   ]
  },
  {
   "cell_type": "markdown",
   "metadata": {},
   "source": [
    "### Saving Cleaned Data"
   ]
  },
  {
   "cell_type": "code",
   "execution_count": 17,
   "metadata": {},
   "outputs": [],
   "source": [
    "df_turnos.to_excel(\"Turnos Pacientes Limpios.xlsx\", index=False)"
   ]
  }
 ],
 "metadata": {
  "kernelspec": {
   "display_name": "base",
   "language": "python",
   "name": "python3"
  },
  "language_info": {
   "codemirror_mode": {
    "name": "ipython",
    "version": 3
   },
   "file_extension": ".py",
   "mimetype": "text/x-python",
   "name": "python",
   "nbconvert_exporter": "python",
   "pygments_lexer": "ipython3",
   "version": "3.12.4"
  }
 },
 "nbformat": 4,
 "nbformat_minor": 2
}
